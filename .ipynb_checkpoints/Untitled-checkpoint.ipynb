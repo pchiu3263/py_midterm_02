{
 "cells": [
  {
   "cell_type": "code",
   "execution_count": 2,
   "metadata": {
    "collapsed": false
   },
   "outputs": [
    {
     "name": "stdout",
     "output_type": "stream",
     "text": [
      "2.8722813232690143\n"
     ]
    }
   ],
   "source": [
    "import math\n",
    "\n",
    "# 定義自訂函數\n",
    "def my_std(input_list):\n",
    "    '計算標準差' # docstrings\n",
    "    def my_sum(input_list):\n",
    "        '計算總和'\n",
    "        temp_sum = 0\n",
    "        for i in input_list:\n",
    "            temp_sum += i\n",
    "        return temp_sum\n",
    "    def my_length(input_list):\n",
    "        '計算個數'\n",
    "        temp_length = 0\n",
    "        for i in input_list:\n",
    "            temp_length += 1\n",
    "        return temp_length\n",
    "    def my_square_sum(input_list):\n",
    "        '計算平方和' # docstrings\n",
    "        temp_sq_sum = 0\n",
    "        for i in input_list:\n",
    "            temp_sq_sum += i**2\n",
    "        return temp_sq_sum\n",
    "    return math.sqrt((my_square_sum(input_list)/my_length(input_list))-(my_sum(input_list) / my_length(input_list))**2)\n",
    "\n",
    "# 呼叫自訂函數\n",
    "one_to_10 = range(1, 11)\n",
    "print(my_std(one_to_10))"
   ]
  },
  {
   "cell_type": "code",
   "execution_count": null,
   "metadata": {
    "collapsed": true
   },
   "outputs": [],
   "source": []
  }
 ],
 "metadata": {
  "kernelspec": {
   "display_name": "Python 3",
   "language": "python",
   "name": "python3"
  },
  "language_info": {
   "codemirror_mode": {
    "name": "ipython",
    "version": 3
   },
   "file_extension": ".py",
   "mimetype": "text/x-python",
   "name": "python",
   "nbconvert_exporter": "python",
   "pygments_lexer": "ipython3",
   "version": "3.6.0"
  }
 },
 "nbformat": 4,
 "nbformat_minor": 2
}
